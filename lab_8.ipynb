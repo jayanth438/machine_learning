{
 "cells": [
  {
   "cell_type": "code",
   "execution_count": 1,
   "metadata": {
    "colab": {
     "base_uri": "https://localhost:8080/"
    },
    "id": "hJfcMRlbKR1B",
    "outputId": "8f9aeb65-a62d-416b-9e3d-81dfcd8afe3e"
   },
   "outputs": [
    {
     "name": "stdout",
     "output_type": "stream",
     "text": [
      "Prior Probabilities for 'buys_computer' classes:\n",
      "buys_computer\n",
      "yes    0.642857\n",
      "no     0.357143\n",
      "Name: proportion, dtype: float64\n"
     ]
    }
   ],
   "source": [
    "#A1\n",
    "import pandas as pd\n",
    "\n",
    "data = {\n",
    "    'age': ['<=30', '<=30', '31…40', '>40', '>40', '>40', '31…40', '<=30', '<=30', '>40',\n",
    "            '<=30', '31…40', '31…40', '>40'],\n",
    "    'income': ['high', 'high', 'high', 'medium', 'low', 'low', 'low', 'medium', 'low',\n",
    "               'medium', 'medium', 'medium', 'high', 'medium'],\n",
    "    'student': ['no', 'no', 'no', 'no', 'yes', 'yes', 'yes', 'no', 'yes', 'yes', 'yes',\n",
    "                'no', 'yes', 'no'],\n",
    "    'credit_rating': ['fair', 'excellent', 'fair', 'fair', 'fair', 'excellent', 'excellent',\n",
    "                      'fair', 'fair', 'fair', 'excellent', 'excellent', 'fair', 'excellent'],\n",
    "    'buys_computer': ['no', 'no', 'yes', 'yes', 'yes', 'no', 'yes', 'no', 'yes', 'yes',\n",
    "                      'yes', 'yes', 'yes', 'no']\n",
    "}\n",
    "\n",
    "df = pd.DataFrame(data)\n",
    "\n",
    "prior_prob = df['buys_computer'].value_counts(normalize=True)\n",
    "print(\"Prior Probabilities for 'buys_computer' classes:\")\n",
    "print(prior_prob)\n"
   ]
  },
  {
   "cell_type": "code",
   "execution_count": 2,
   "metadata": {
    "colab": {
     "base_uri": "https://localhost:8080/"
    },
    "id": "fEO42nIFziDM",
    "outputId": "7b1970dc-9c08-4f7b-f2c1-2874d62ffbe3"
   },
   "outputs": [
    {
     "name": "stdout",
     "output_type": "stream",
     "text": [
      "Class-Conditional Density for 'age':\n",
      "buys_computer  age  \n",
      "no             <=30     0.214286\n",
      "               >40      0.142857\n",
      "yes            31…40    0.285714\n",
      "               <=30     0.142857\n",
      "               >40      0.214286\n",
      "dtype: float64\n",
      "\n",
      "Class-Conditional Density for 'income':\n",
      "buys_computer  income\n",
      "no             high      0.142857\n",
      "               low       0.071429\n",
      "               medium    0.142857\n",
      "yes            high      0.142857\n",
      "               low       0.214286\n",
      "               medium    0.285714\n",
      "dtype: float64\n",
      "\n",
      "Class-Conditional Density for 'student':\n",
      "buys_computer  student\n",
      "no             no         0.285714\n",
      "               yes        0.071429\n",
      "yes            no         0.214286\n",
      "               yes        0.428571\n",
      "dtype: float64\n",
      "\n",
      "Class-Conditional Density for 'credit_rating':\n",
      "buys_computer  credit_rating\n",
      "no             excellent        0.214286\n",
      "               fair             0.142857\n",
      "yes            excellent        0.214286\n",
      "               fair             0.428571\n",
      "dtype: float64\n",
      "\n"
     ]
    }
   ],
   "source": [
    "#A2\n",
    "import pandas as pd\n",
    "\n",
    "data = {\n",
    "    'age': ['<=30', '<=30', '31…40', '>40', '>40', '>40', '31…40', '<=30', '<=30', '>40',\n",
    "            '<=30', '31…40', '31…40', '>40'],\n",
    "    'income': ['high', 'high', 'high', 'medium', 'low', 'low', 'low', 'medium', 'low',\n",
    "               'medium', 'medium', 'medium', 'high', 'medium'],\n",
    "    'student': ['no', 'no', 'no', 'no', 'yes', 'yes', 'yes', 'no', 'yes', 'yes', 'yes',\n",
    "                'no', 'yes', 'no'],\n",
    "    'credit_rating': ['fair', 'excellent', 'fair', 'fair', 'fair', 'excellent', 'excellent',\n",
    "                      'fair', 'fair', 'fair', 'excellent', 'excellent', 'fair', 'excellent'],\n",
    "    'buys_computer': ['no', 'no', 'yes', 'yes', 'yes', 'no', 'yes', 'no', 'yes', 'yes',\n",
    "                      'yes', 'yes', 'yes', 'no']\n",
    "}\n",
    "\n",
    "df = pd.DataFrame(data)\n",
    "\n",
    "class_conditional_densities = {}\n",
    "for feature in df.columns[:-1]:\n",
    "    class_conditional_densities[feature] = df.groupby(['buys_computer', feature]).size() / len(df)\n",
    "\n",
    "for feature, density in class_conditional_densities.items():\n",
    "    print(f\"Class-Conditional Density for '{feature}':\")\n",
    "    print(density)\n",
    "    print()\n",
    "\n",
    "for feature, density in class_conditional_densities.items():\n",
    "    if density.isnull().any():\n",
    "        print(f\"At least one class-conditional density for '{feature}' has zero values.\")\n"
   ]
  },
  {
   "cell_type": "code",
   "execution_count": 3,
   "metadata": {
    "colab": {
     "base_uri": "https://localhost:8080/"
    },
    "id": "xWwYJ_E2z8wG",
    "outputId": "317ba82a-3408-456f-dafb-2f06eeb32d5c"
   },
   "outputs": [
    {
     "name": "stdout",
     "output_type": "stream",
     "text": [
      "test between 'age' and 'income':\n",
      "statistic: 3.3249999999999997\n",
      "P-value: 0.5049810026322079\n",
      "\n",
      "test between 'age' and 'student':\n",
      "statistic: 0.4\n",
      "P-value: 0.8187307530779818\n",
      "\n",
      "test between 'age' and 'credit_rating':\n",
      "statistic: 0.11666666666666664\n",
      "P-value: 0.9433354498734922\n",
      "\n",
      "test between 'income' and 'student':\n",
      "statistic: 5.666666666666666\n",
      "P-value: 0.05881647164242991\n",
      "\n",
      "test between 'income' and 'credit_rating':\n",
      "statistic: 0.7291666666666666\n",
      "P-value: 0.6944859597510076\n",
      "\n",
      "test between 'student' and 'credit_rating':\n",
      "statistic: 0.0\n",
      "P-value: 1.0\n",
      "\n"
     ]
    }
   ],
   "source": [
    "#A3\n",
    "import pandas as pd\n",
    "from scipy.stats import chi2_contingency\n",
    "\n",
    "data = {\n",
    "    'age': ['<=30', '<=30', '31…40', '>40', '>40', '>40', '31…40', '<=30', '<=30', '>40',\n",
    "            '<=30', '31…40', '31…40', '>40'],\n",
    "    'income': ['high', 'high', 'high', 'medium', 'low', 'low', 'low', 'medium', 'low',\n",
    "               'medium', 'medium', 'medium', 'high', 'medium'],\n",
    "    'student': ['no', 'no', 'no', 'no', 'yes', 'yes', 'yes', 'no', 'yes', 'yes', 'yes',\n",
    "                'no', 'yes', 'no'],\n",
    "    'credit_rating': ['fair', 'excellent', 'fair', 'fair', 'fair', 'excellent', 'excellent',\n",
    "                      'fair', 'fair', 'fair', 'excellent', 'excellent', 'fair', 'excellent'],\n",
    "    'buys_computer': ['no', 'no', 'yes', 'yes', 'yes', 'no', 'yes', 'no', 'yes', 'yes',\n",
    "                      'yes', 'yes', 'yes', 'no']\n",
    "}\n",
    "\n",
    "df = pd.DataFrame(data)\n",
    "\n",
    "features = ['age', 'income', 'student', 'credit_rating']\n",
    "\n",
    "for i in range(len(features)):\n",
    "    for j in range(i + 1, len(features)):\n",
    "        contingency_table = pd.crosstab(df[features[i]], df[features[j]])\n",
    "        chi2, p, dof, expected = chi2_contingency(contingency_table)\n",
    "        print(f\"test between '{features[i]}' and '{features[j]}':\")\n",
    "        print(f\"statistic: {chi2}\")\n",
    "        print(f\"P-value: {p}\")\n",
    "        print(\"\")\n",
    "\n"
   ]
  },
  {
   "cell_type": "code",
   "execution_count": 4,
   "metadata": {
    "colab": {
     "base_uri": "https://localhost:8080/"
    },
    "id": "xVHF2-8pzdGl",
    "outputId": "74b95b07-aeb7-45cc-f315-6a386c54348a"
   },
   "outputs": [
    {
     "name": "stdout",
     "output_type": "stream",
     "text": [
      "\n",
      "A4: Naïve-Bayes Classifier Test Set Accuracy: 0.6666666666666666\n"
     ]
    }
   ],
   "source": [
    "import pandas as pd\n",
    "from sklearn.naive_bayes import GaussianNB\n",
    "from sklearn.preprocessing import LabelEncoder\n",
    "from sklearn.model_selection import train_test_split\n",
    "from sklearn.metrics import accuracy_score\n",
    "\n",
    "# Given data\n",
    "data = {\n",
    "    'age': ['<=30', '<=30', '31…40', '>40', '>40', '>40', '31…40', '<=30', '<=30', '>40', '<=30', '31…40', '31…40', '>40'],\n",
    "    'income': ['high', 'high', 'high', 'medium', 'low', 'low', 'low', 'medium', 'low', 'medium', 'medium', 'medium', 'high', 'medium'],\n",
    "    'student': ['no', 'no', 'no', 'no', 'yes', 'yes', 'yes', 'no', 'yes', 'yes', 'yes', 'no', 'yes', 'no'],\n",
    "    'credit_rating': ['fair', 'excellent', 'fair', 'fair', 'fair', 'excellent', 'excellent', 'fair', 'fair', 'fair', 'excellent', 'excellent', 'fair', 'excellent'],\n",
    "    'buys_computer': ['no', 'no', 'yes', 'yes', 'yes', 'no', 'yes', 'no', 'yes', 'yes', 'yes', 'yes', 'yes', 'no']\n",
    "}\n",
    "\n",
    "# Create a DataFrame\n",
    "df = pd.DataFrame(data)\n",
    "\n",
    "# Encoding string data into numerical data\n",
    "le = LabelEncoder()\n",
    "df_encoded = df.apply(le.fit_transform)\n",
    "\n",
    "# Separate features and target variable\n",
    "X = df_encoded.drop('buys_computer', axis=1)\n",
    "y = df_encoded['buys_computer']\n",
    "\n",
    "# Split the dataset into training and testing sets\n",
    "X_train, X_test, y_train, y_test = train_test_split(X, y, test_size=0.2, random_state=42)\n",
    "\n",
    "\n",
    "# A4: Build a Naïve-Bayes classifier\n",
    "model_a4 = GaussianNB()\n",
    "model_a4.fit(X_train, y_train)\n",
    "\n",
    "# Make predictions on the test set\n",
    "predictions = model_a4.predict(X_test)\n",
    "\n",
    "# Calculate accuracy of the predictions\n",
    "accuracy_a4 = accuracy_score(y_test, predictions)\n",
    "\n",
    "\n",
    "print(\"\\nA4: Naïve-Bayes Classifier Test Set Accuracy:\", accuracy_a4)"
   ]
  },
  {
   "cell_type": "code",
   "execution_count": 4,
   "metadata": {
    "colab": {
     "base_uri": "https://localhost:8080/"
    },
    "id": "Mm5OiCi30dPd",
    "outputId": "2a50655c-3e83-4c54-b97a-b90de178b179"
   },
   "outputs": [
    {
     "ename": "NameError",
     "evalue": "name 'GaussianNB' is not defined",
     "output_type": "error",
     "traceback": [
      "\u001b[1;31m---------------------------------------------------------------------------\u001b[0m",
      "\u001b[1;31mNameError\u001b[0m                                 Traceback (most recent call last)",
      "Cell \u001b[1;32mIn[4], line 16\u001b[0m\n\u001b[0;32m     12\u001b[0m y \u001b[38;5;241m=\u001b[39m dataset[\u001b[38;5;124m'\u001b[39m\u001b[38;5;124mlabel\u001b[39m\u001b[38;5;124m'\u001b[39m]\n\u001b[0;32m     15\u001b[0m X_train, X_test, y_train, y_test \u001b[38;5;241m=\u001b[39m train_test_split(X, y, test_size\u001b[38;5;241m=\u001b[39m\u001b[38;5;241m0.2\u001b[39m, random_state\u001b[38;5;241m=\u001b[39m\u001b[38;5;241m42\u001b[39m)\n\u001b[1;32m---> 16\u001b[0m model\u001b[38;5;241m=\u001b[39mGaussianNB()\n\u001b[0;32m     17\u001b[0m model\u001b[38;5;241m.\u001b[39mfit(X_train, y_train)\n\u001b[0;32m     20\u001b[0m y_pred \u001b[38;5;241m=\u001b[39m model\u001b[38;5;241m.\u001b[39mpredict(X_test)\n",
      "\u001b[1;31mNameError\u001b[0m: name 'GaussianNB' is not defined"
     ]
    }
   ],
   "source": [
    "#A5 1st dataset\n",
    "import sklearn\n",
    "import pandas as pd\n",
    "from sklearn.model_selection import train_test_split\n",
    "from sklearn.metrics import accuracy_score\n",
    "\n",
    "\n",
    "dataset = pd.read_csv('data_ml.csv')\n",
    "dataset.drop('fname',axis=1,inplace=True)\n",
    "\n",
    "X = dataset.drop('label',axis=1)\n",
    "y = dataset['label']\n",
    "\n",
    "\n",
    "X_train, X_test, y_train, y_test = train_test_split(X, y, test_size=0.2, random_state=42)\n",
    "model=GaussianNB()\n",
    "model.fit(X_train, y_train)\n",
    "\n",
    "\n",
    "y_pred = model.predict(X_test)\n",
    "\n",
    "\n",
    "accuracy = accuracy_score(y_test, y_pred)\n",
    "\n",
    "print(accuracy)\n"
   ]
  },
  {
   "cell_type": "code",
   "execution_count": null,
   "metadata": {},
   "outputs": [],
   "source": []
  },
  {
   "cell_type": "code",
   "execution_count": null,
   "metadata": {},
   "outputs": [],
   "source": []
  }
 ],
 "metadata": {
  "colab": {
   "provenance": []
  },
  "kernelspec": {
   "display_name": "Python 3 (ipykernel)",
   "language": "python",
   "name": "python3"
  },
  "language_info": {
   "codemirror_mode": {
    "name": "ipython",
    "version": 3
   },
   "file_extension": ".py",
   "mimetype": "text/x-python",
   "name": "python",
   "nbconvert_exporter": "python",
   "pygments_lexer": "ipython3",
   "version": "3.11.5"
  }
 },
 "nbformat": 4,
 "nbformat_minor": 1
}
