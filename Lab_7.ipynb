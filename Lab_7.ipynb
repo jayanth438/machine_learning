{
 "cells": [
  {
   "cell_type": "markdown",
   "id": "182cea93",
   "metadata": {
    "id": "182cea93"
   },
   "source": [
    "#### Question 1"
   ]
  },
  {
   "cell_type": "code",
   "execution_count": 1,
   "id": "c399327c",
   "metadata": {
    "colab": {
     "base_uri": "https://localhost:8080/",
     "height": 273
    },
    "id": "c399327c",
    "outputId": "181e47c9-f7c4-4cbf-a812-5498ade3b992"
   },
   "outputs": [
    {
     "data": {
      "text/html": [
       "<div>\n",
       "<style scoped>\n",
       "    .dataframe tbody tr th:only-of-type {\n",
       "        vertical-align: middle;\n",
       "    }\n",
       "\n",
       "    .dataframe tbody tr th {\n",
       "        vertical-align: top;\n",
       "    }\n",
       "\n",
       "    .dataframe thead th {\n",
       "        text-align: right;\n",
       "    }\n",
       "</style>\n",
       "<table border=\"1\" class=\"dataframe\">\n",
       "  <thead>\n",
       "    <tr style=\"text-align: right;\">\n",
       "      <th></th>\n",
       "      <th>dissimilarity_0</th>\n",
       "      <th>dissimilarity_45</th>\n",
       "      <th>dissimilarity_90</th>\n",
       "      <th>dissimilarity_135</th>\n",
       "      <th>correlation_0</th>\n",
       "      <th>correlation_45</th>\n",
       "      <th>correlation_90</th>\n",
       "      <th>correlation_135</th>\n",
       "      <th>homogeneity_0</th>\n",
       "      <th>homogeneity_45</th>\n",
       "      <th>...</th>\n",
       "      <th>ASM_0</th>\n",
       "      <th>ASM_45</th>\n",
       "      <th>ASM_90</th>\n",
       "      <th>ASM_135</th>\n",
       "      <th>energy_0</th>\n",
       "      <th>energy_45</th>\n",
       "      <th>energy_90</th>\n",
       "      <th>energy_135</th>\n",
       "      <th>label</th>\n",
       "      <th>fname</th>\n",
       "    </tr>\n",
       "  </thead>\n",
       "  <tbody>\n",
       "    <tr>\n",
       "      <th>0</th>\n",
       "      <td>17.216435</td>\n",
       "      <td>21.119725</td>\n",
       "      <td>20.889887</td>\n",
       "      <td>21.543330</td>\n",
       "      <td>0.491436</td>\n",
       "      <td>0.390284</td>\n",
       "      <td>0.389736</td>\n",
       "      <td>0.378055</td>\n",
       "      <td>0.932486</td>\n",
       "      <td>0.917179</td>\n",
       "      <td>...</td>\n",
       "      <td>0.804286</td>\n",
       "      <td>0.788199</td>\n",
       "      <td>0.790551</td>\n",
       "      <td>0.786816</td>\n",
       "      <td>0.896820</td>\n",
       "      <td>0.887806</td>\n",
       "      <td>0.889129</td>\n",
       "      <td>0.887027</td>\n",
       "      <td>3333</td>\n",
       "      <td>1.png</td>\n",
       "    </tr>\n",
       "    <tr>\n",
       "      <th>1</th>\n",
       "      <td>12.143708</td>\n",
       "      <td>15.748918</td>\n",
       "      <td>14.495192</td>\n",
       "      <td>15.859307</td>\n",
       "      <td>0.504656</td>\n",
       "      <td>0.375442</td>\n",
       "      <td>0.414030</td>\n",
       "      <td>0.371065</td>\n",
       "      <td>0.952378</td>\n",
       "      <td>0.938240</td>\n",
       "      <td>...</td>\n",
       "      <td>0.858505</td>\n",
       "      <td>0.843167</td>\n",
       "      <td>0.849379</td>\n",
       "      <td>0.842788</td>\n",
       "      <td>0.926556</td>\n",
       "      <td>0.918241</td>\n",
       "      <td>0.921618</td>\n",
       "      <td>0.918035</td>\n",
       "      <td>3333</td>\n",
       "      <td>10.png</td>\n",
       "    </tr>\n",
       "    <tr>\n",
       "      <th>2</th>\n",
       "      <td>17.216435</td>\n",
       "      <td>21.119725</td>\n",
       "      <td>20.889887</td>\n",
       "      <td>21.543330</td>\n",
       "      <td>0.491436</td>\n",
       "      <td>0.390284</td>\n",
       "      <td>0.389736</td>\n",
       "      <td>0.378055</td>\n",
       "      <td>0.932486</td>\n",
       "      <td>0.917179</td>\n",
       "      <td>...</td>\n",
       "      <td>0.804286</td>\n",
       "      <td>0.788199</td>\n",
       "      <td>0.790551</td>\n",
       "      <td>0.786816</td>\n",
       "      <td>0.896820</td>\n",
       "      <td>0.887806</td>\n",
       "      <td>0.889129</td>\n",
       "      <td>0.887027</td>\n",
       "      <td>3333</td>\n",
       "      <td>100.png</td>\n",
       "    </tr>\n",
       "    <tr>\n",
       "      <th>3</th>\n",
       "      <td>12.019049</td>\n",
       "      <td>15.824242</td>\n",
       "      <td>14.639564</td>\n",
       "      <td>16.002597</td>\n",
       "      <td>0.536540</td>\n",
       "      <td>0.396562</td>\n",
       "      <td>0.428353</td>\n",
       "      <td>0.388649</td>\n",
       "      <td>0.937824</td>\n",
       "      <td>0.921008</td>\n",
       "      <td>...</td>\n",
       "      <td>0.841781</td>\n",
       "      <td>0.823179</td>\n",
       "      <td>0.829753</td>\n",
       "      <td>0.822738</td>\n",
       "      <td>0.917486</td>\n",
       "      <td>0.907292</td>\n",
       "      <td>0.910908</td>\n",
       "      <td>0.907049</td>\n",
       "      <td>3333</td>\n",
       "      <td>11.png</td>\n",
       "    </tr>\n",
       "    <tr>\n",
       "      <th>4</th>\n",
       "      <td>13.591560</td>\n",
       "      <td>16.543238</td>\n",
       "      <td>12.819549</td>\n",
       "      <td>14.969519</td>\n",
       "      <td>0.398153</td>\n",
       "      <td>0.288259</td>\n",
       "      <td>0.437464</td>\n",
       "      <td>0.355965</td>\n",
       "      <td>0.946701</td>\n",
       "      <td>0.935126</td>\n",
       "      <td>...</td>\n",
       "      <td>0.860980</td>\n",
       "      <td>0.848183</td>\n",
       "      <td>0.862887</td>\n",
       "      <td>0.853592</td>\n",
       "      <td>0.927890</td>\n",
       "      <td>0.920969</td>\n",
       "      <td>0.928917</td>\n",
       "      <td>0.923900</td>\n",
       "      <td>3333</td>\n",
       "      <td>12.png</td>\n",
       "    </tr>\n",
       "  </tbody>\n",
       "</table>\n",
       "<p>5 rows × 26 columns</p>\n",
       "</div>"
      ],
      "text/plain": [
       "   dissimilarity_0  dissimilarity_45  dissimilarity_90  dissimilarity_135  \\\n",
       "0        17.216435         21.119725         20.889887          21.543330   \n",
       "1        12.143708         15.748918         14.495192          15.859307   \n",
       "2        17.216435         21.119725         20.889887          21.543330   \n",
       "3        12.019049         15.824242         14.639564          16.002597   \n",
       "4        13.591560         16.543238         12.819549          14.969519   \n",
       "\n",
       "   correlation_0  correlation_45  correlation_90  correlation_135  \\\n",
       "0       0.491436        0.390284        0.389736         0.378055   \n",
       "1       0.504656        0.375442        0.414030         0.371065   \n",
       "2       0.491436        0.390284        0.389736         0.378055   \n",
       "3       0.536540        0.396562        0.428353         0.388649   \n",
       "4       0.398153        0.288259        0.437464         0.355965   \n",
       "\n",
       "   homogeneity_0  homogeneity_45  ...     ASM_0    ASM_45    ASM_90   ASM_135  \\\n",
       "0       0.932486        0.917179  ...  0.804286  0.788199  0.790551  0.786816   \n",
       "1       0.952378        0.938240  ...  0.858505  0.843167  0.849379  0.842788   \n",
       "2       0.932486        0.917179  ...  0.804286  0.788199  0.790551  0.786816   \n",
       "3       0.937824        0.921008  ...  0.841781  0.823179  0.829753  0.822738   \n",
       "4       0.946701        0.935126  ...  0.860980  0.848183  0.862887  0.853592   \n",
       "\n",
       "   energy_0  energy_45  energy_90  energy_135  label    fname  \n",
       "0  0.896820   0.887806   0.889129    0.887027   3333    1.png  \n",
       "1  0.926556   0.918241   0.921618    0.918035   3333   10.png  \n",
       "2  0.896820   0.887806   0.889129    0.887027   3333  100.png  \n",
       "3  0.917486   0.907292   0.910908    0.907049   3333   11.png  \n",
       "4  0.927890   0.920969   0.928917    0.923900   3333   12.png  \n",
       "\n",
       "[5 rows x 26 columns]"
      ]
     },
     "execution_count": 1,
     "metadata": {},
     "output_type": "execute_result"
    }
   ],
   "source": [
    "import pandas as pd\n",
    "from sklearn.model_selection import train_test_split\n",
    "from sklearn.svm import SVC\n",
    "from sklearn.impute import SimpleImputer\n",
    "from sklearn.metrics import accuracy_score, classification_report\n",
    "from sklearn.preprocessing import StandardScaler\n",
    "data = pd.read_csv('data_ml.csv')\n",
    "\n",
    "data.head()"
   ]
  },
  {
   "cell_type": "code",
   "execution_count": 6,
   "id": "1f7efc0f",
   "metadata": {
    "colab": {
     "base_uri": "https://localhost:8080/"
    },
    "id": "1f7efc0f",
    "outputId": "76558c75-3a1e-4026-de61-0fb87b650734"
   },
   "outputs": [
    {
     "name": "stdout",
     "output_type": "stream",
     "text": [
      "Accuracy: 0.4072948328267477\n",
      "              precision    recall  f1-score   support\n",
      "\n",
      "        3333       0.39      0.86      0.53        14\n",
      "        3334       0.65      0.61      0.63        18\n",
      "        3335       0.33      0.50      0.40        12\n",
      "        3337       0.64      0.88      0.74        16\n",
      "        3342       0.55      0.38      0.44        16\n",
      "        3343       0.00      0.00      0.00        14\n",
      "        3346       0.35      0.32      0.33        19\n",
      "        3349       0.19      0.40      0.26        15\n",
      "        3350       0.00      0.00      0.00        23\n",
      "        3351       0.87      0.72      0.79        18\n",
      "        3352       0.00      0.00      0.00        22\n",
      "        3353       0.27      0.33      0.30        18\n",
      "        3354       0.29      0.55      0.38        20\n",
      "        3355       0.00      0.00      0.00        26\n",
      "        3356       0.78      0.37      0.50        19\n",
      "        3357       0.00      0.00      0.00        42\n",
      "        3358       0.14      1.00      0.25        21\n",
      "        3359       0.53      0.78      0.63        23\n",
      "        3360       0.41      0.76      0.53        29\n",
      "        3361       0.94      1.00      0.97        34\n",
      "        3362       0.80      1.00      0.89        39\n",
      "        3363       0.27      0.60      0.37        15\n",
      "        3364       0.00      0.00      0.00         4\n",
      "        3365       0.67      0.20      0.31        10\n",
      "        3366       0.40      0.14      0.21        14\n",
      "        3367       0.50      0.43      0.46         7\n",
      "        3368       0.50      0.14      0.22         7\n",
      "        3370       0.00      0.00      0.00         7\n",
      "        3371       0.00      0.00      0.00         8\n",
      "        3372       0.00      0.00      0.00         7\n",
      "        3373       0.00      0.00      0.00         6\n",
      "        3374       0.00      0.00      0.00         8\n",
      "        3375       0.00      0.00      0.00         7\n",
      "        3376       0.00      0.00      0.00        14\n",
      "        3377       0.50      0.40      0.44         5\n",
      "        3378       0.33      0.14      0.20         7\n",
      "        3379       0.33      0.12      0.18         8\n",
      "        3380       0.88      0.88      0.88         8\n",
      "        3381       0.00      0.00      0.00         9\n",
      "        3382       0.12      0.17      0.14         6\n",
      "        3383       0.00      0.00      0.00         5\n",
      "        3384       0.00      0.00      0.00         4\n",
      "        3385       0.00      0.00      0.00         6\n",
      "        3450       0.67      0.67      0.67         3\n",
      "        3451       0.50      0.75      0.60         4\n",
      "        3452       1.00      0.11      0.20         9\n",
      "        3453       0.33      0.20      0.25         5\n",
      "        3454       0.00      0.00      0.00         7\n",
      "\n",
      "    accuracy                           0.41       658\n",
      "   macro avg       0.32      0.32      0.29       658\n",
      "weighted avg       0.36      0.41      0.35       658\n",
      "\n"
     ]
    },
    {
     "name": "stderr",
     "output_type": "stream",
     "text": [
      "C:\\ProgramData\\anaconda3\\Lib\\site-packages\\sklearn\\metrics\\_classification.py:1469: UndefinedMetricWarning: Precision and F-score are ill-defined and being set to 0.0 in labels with no predicted samples. Use `zero_division` parameter to control this behavior.\n",
      "  _warn_prf(average, modifier, msg_start, len(result))\n",
      "C:\\ProgramData\\anaconda3\\Lib\\site-packages\\sklearn\\metrics\\_classification.py:1469: UndefinedMetricWarning: Precision and F-score are ill-defined and being set to 0.0 in labels with no predicted samples. Use `zero_division` parameter to control this behavior.\n",
      "  _warn_prf(average, modifier, msg_start, len(result))\n",
      "C:\\ProgramData\\anaconda3\\Lib\\site-packages\\sklearn\\metrics\\_classification.py:1469: UndefinedMetricWarning: Precision and F-score are ill-defined and being set to 0.0 in labels with no predicted samples. Use `zero_division` parameter to control this behavior.\n",
      "  _warn_prf(average, modifier, msg_start, len(result))\n"
     ]
    }
   ],
   "source": [
    "data.drop('fname', axis=1,inplace=True) \n",
    "X = data.drop('label', axis=1) \n",
    "y = data['label']\n",
    "\n",
    "X_train, X_test, y_train, y_test = train_test_split(X, y, test_size=0.2 )\n",
    "\n",
    "scaler = StandardScaler()\n",
    "X_train = scaler.fit_transform(X_train)\n",
    "X_test = scaler.transform(X_test)\n",
    "\n",
    "clf = SVC(kernel='linear')\n",
    "\n",
    "clf.fit(X_train, y_train)\n",
    "\n",
    "predictions = clf.predict(X_test)\n",
    "\n",
    "\n",
    "accuracy = accuracy_score(y_test, predictions)\n",
    "print(f\"Accuracy: {accuracy}\")\n",
    "\n",
    "print(classification_report(y_test, predictions))\n"
   ]
  },
  {
   "cell_type": "markdown",
   "id": "79d10d7a",
   "metadata": {
    "id": "79d10d7a"
   },
   "source": [
    "##### Question 2"
   ]
  },
  {
   "cell_type": "code",
   "execution_count": 4,
   "id": "e0ca90f9",
   "metadata": {
    "colab": {
     "base_uri": "https://localhost:8080/"
    },
    "id": "e0ca90f9",
    "outputId": "3cf7bfc6-18a0-4f8c-c28a-abcea371a98f"
   },
   "outputs": [
    {
     "name": "stdout",
     "output_type": "stream",
     "text": [
      "Accuracy of the SVM on the test set: 0.6824324324324325\n",
      "The predicted class for the test vector: [3343 3362 3360 ... 3454 3368 3335]\n"
     ]
    }
   ],
   "source": [
    "accuracy = clf.score(X_test, y_test)\n",
    "print(f\"Accuracy of the SVM on the test set: {accuracy}\")\n",
    "predicted_class = clf.predict(X_test)\n",
    "print(f\"The predicted class for the test vector: {predicted_class}\")"
   ]
  },
  {
   "cell_type": "markdown",
   "id": "4bba7e9e",
   "metadata": {
    "id": "4bba7e9e"
   },
   "source": [
    "#### Question 3"
   ]
  },
  {
   "cell_type": "code",
   "execution_count": 8,
   "id": "883fc380",
   "metadata": {
    "colab": {
     "base_uri": "https://localhost:8080/"
    },
    "id": "883fc380",
    "outputId": "5cf988cb-8ecc-4cfe-8e48-fef6829ad6a8"
   },
   "outputs": [
    {
     "name": "stdout",
     "output_type": "stream",
     "text": [
      "Predictions: [3333 3349 3334 3383 3334 3356 3342 3383 3334 3334 3333 3383 3356 3356\n",
      " 3342 3356 3334 3356 3383 3334 3349 3334 3383 3383 3334 3334 3334 3349\n",
      " 3334 3334 3356 3349 3383 3334 3334 3334 3334 3383 3334 3334 3349 3383\n",
      " 3334 3349 3349 3349 3349 3333 3356 3334 3334 3334 3356 3334 3334 3349\n",
      " 3349 3349 3334 3334 3334 3349 3334 3349 3342 3334 3356 3356 3334 3334\n",
      " 3334 3349 3356 3356 3334 3349 3349 3334 3342 3334 3333 3349 3334 3334\n",
      " 3356 3383 3334 3334 3349 3334 3334 3349 3333 3383 3356 3334 3334 3356\n",
      " 3334 3334 3383 3334 3334 3349 3349 3334 3349 3334 3334 3333 3334 3334\n",
      " 3383 3334 3333 3383 3349 3333 3342 3383 3349 3383 3334 3349 3334 3334\n",
      " 3334 3334 3383 3333 3334 3334 3383 3334 3349 3334 3349 3349 3356 3356\n",
      " 3349 3356 3334 3356 3334 3334 3349 3334 3334 3383 3356 3349 3349 3356\n",
      " 3349 3334 3334 3334 3349 3349 3356 3356 3349 3334 3356 3356 3334 3349\n",
      " 3334 3356 3349 3356 3349 3349 3334 3334 3334 3334 3334 3334 3334 3334\n",
      " 3334 3356 3349 3356 3349 3349 3334 3349 3349 3356 3356 3349 3349 3383\n",
      " 3334 3334 3356 3383 3356 3334 3334 3356 3356 3349 3356 3349 3334 3349\n",
      " 3334 3342 3334 3349 3356 3356 3334 3349 3356 3383 3356 3334 3356 3349\n",
      " 3349 3334 3383 3383 3334 3383 3334 3349 3349 3334 3333 3356 3356 3356\n",
      " 3383 3334 3356 3334 3334 3356 3334 3349 3356 3334 3334 3349 3334 3334\n",
      " 3334 3334 3356 3383 3334 3349 3334 3334 3356 3356 3349 3334 3334 3349\n",
      " 3356 3334 3349 3356 3334 3334 3334 3383 3334 3349 3383 3334 3334 3334\n",
      " 3334 3334 3334 3334 3383 3342 3379 3383 3334 3349 3334 3334 3356 3383\n",
      " 3349 3349 3349 3334 3356 3334 3383 3383 3356 3334 3334 3334 3334 3334\n",
      " 3383 3349 3383 3383 3334 3334 3383 3334 3356 3349 3349 3349 3334 3334\n",
      " 3334 3334 3349 3334 3356 3349 3334 3334 3349 3334 3349 3334 3356 3334\n",
      " 3383 3342 3334 3334 3334 3334 3334 3356 3349 3356 3356 3334 3383 3333\n",
      " 3334 3334 3334 3334 3356 3333 3356 3334 3356 3349 3334 3356 3334 3334\n",
      " 3333 3334 3334 3356 3334 3356 3349 3349 3333 3334 3356 3356 3383 3356\n",
      " 3334 3349 3383 3349 3342 3334 3383 3349 3334 3334 3356 3334 3349 3349\n",
      " 3334 3334 3334 3334 3356 3334 3334 3334 3334 3349 3383 3383 3334 3356\n",
      " 3383 3349 3383 3356 3334 3333 3334 3356 3383 3334 3334 3334 3349 3334\n",
      " 3334 3334 3349 3356 3349 3356 3383 3349 3333 3356 3334 3334 3349 3334\n",
      " 3342 3356 3383 3356 3349 3334 3383 3349 3356 3349 3349 3356 3334 3334\n",
      " 3356 3334 3334 3349 3334 3383 3383 3334 3342 3349 3356 3383 3349 3334\n",
      " 3334 3334 3334 3356 3356 3383 3334 3349 3334 3356 3334 3349 3342 3334\n",
      " 3334 3334 3342 3349 3356 3349 3334 3349 3334 3383 3342 3334 3356 3334\n",
      " 3356 3334 3334 3349 3349 3334 3334 3349 3334 3349 3334 3356 3342 3334\n",
      " 3356 3334 3349 3383 3356 3334 3334 3349 3334 3383 3349 3334 3349 3383\n",
      " 3356 3356 3334 3334 3349 3334 3356 3334 3334 3383 3334 3356 3334 3356\n",
      " 3356 3334 3334 3334 3349 3383 3349 3334 3334 3349 3356 3349 3349 3342\n",
      " 3334 3334 3334 3383 3356 3334 3349 3334 3334 3383 3356 3349 3383 3356\n",
      " 3383 3334 3356 3356 3334 3356 3334 3334 3383 3383 3349 3356 3356 3334\n",
      " 3334 3334 3334 3334 3356 3334 3334 3334 3334 3334 3383 3334 3334 3342\n",
      " 3349 3356 3356 3349 3342 3349 3334 3342 3349 3349 3349 3334 3334 3349\n",
      " 3334 3334 3334 3383 3342 3334 3349 3349 3334 3349 3383 3334 3334 3356\n",
      " 3334 3349 3342 3383 3334 3334 3349 3334 3334 3334 3334 3356 3334 3334\n",
      " 3356 3349 3334 3356 3334 3383 3349 3334 3356 3334 3356 3349 3349 3334\n",
      " 3349 3334 3349 3334 3356 3356 3334 3334 3334 3334 3334 3334 3356 3349]\n",
      "Accuracy: 0.028875379939209727\n"
     ]
    },
    {
     "name": "stderr",
     "output_type": "stream",
     "text": [
      "C:\\ProgramData\\anaconda3\\Lib\\site-packages\\sklearn\\base.py:457: UserWarning: X has feature names, but SVC was fitted without feature names\n",
      "  warnings.warn(\n"
     ]
    }
   ],
   "source": [
    "features = data.drop(\"label\",axis=1)\n",
    "target = data['label']\n",
    "\n",
    "X_train, X_test, y_train, y_test = train_test_split(features, target, test_size=0.2, random_state=42)\n",
    "\n",
    "predictions = clf.predict(X_test)\n",
    "print(\"Predictions:\", predictions)\n",
    "\n",
    "accuracy = sum(predictions == y_test) / len(y_test)\n",
    "print(\"Accuracy:\", accuracy)\n"
   ]
  },
  {
   "cell_type": "markdown",
   "id": "8625ff0d",
   "metadata": {
    "id": "8625ff0d"
   },
   "source": [
    "#### Questionn 4"
   ]
  },
  {
   "cell_type": "code",
   "execution_count": 7,
   "id": "697e43f6",
   "metadata": {
    "colab": {
     "base_uri": "https://localhost:8080/"
    },
    "id": "697e43f6",
    "outputId": "842891b2-f3cd-4a7b-f6d5-1d982d7fb1d4"
   },
   "outputs": [
    {
     "name": "stdout",
     "output_type": "stream",
     "text": [
      "Accuracy of SVM model with linear kernel: 0.39\n",
      "Accuracy of SVM model with poly kernel: 0.24\n",
      "Accuracy of SVM model with rbf kernel: 0.31\n",
      "Accuracy of SVM model with sigmoid kernel: 0.21\n"
     ]
    }
   ],
   "source": [
    "from sklearn.model_selection import train_test_split\n",
    "from sklearn.svm import SVC\n",
    "from sklearn.metrics import accuracy_score\n",
    "from sklearn.preprocessing import StandardScaler\n",
    "import pandas as pd\n",
    "\n",
    "\n",
    "X = data.drop('label', axis=1)\n",
    "y = data['label']\n",
    "\n",
    "# Split the data into training and testing sets\n",
    "X_train, X_test, y_train, y_test = train_test_split(X, y, test_size=0.2, random_state=42)\n",
    "\n",
    "# Feature scaling - Standardize features by removing the mean and scaling to unit variance\n",
    "scaler = StandardScaler()\n",
    "X_train = scaler.fit_transform(X_train)\n",
    "X_test = scaler.transform(X_test)\n",
    "\n",
    "# Initialize SVM classifiers with different kernel functions\n",
    "kernel_functions = ['linear', 'poly', 'rbf', 'sigmoid']\n",
    "for kernel in kernel_functions:\n",
    "    # Initialize SVM classifier with the current kernel function\n",
    "    svm = SVC(kernel=kernel, random_state=42)\n",
    "\n",
    "    # Train the SVM model\n",
    "    svm.fit(X_train, y_train)\n",
    "\n",
    "    # Predict labels for test set\n",
    "    y_pred = svm.predict(X_test)\n",
    "\n",
    "    # Calculate accuracy\n",
    "    accuracy = accuracy_score(y_test, y_pred)\n",
    "    print(f\"Accuracy of SVM model with {kernel} kernel: {accuracy:.2f}\")\n"
   ]
  },
  {
   "cell_type": "code",
   "execution_count": null,
   "id": "b8cb1784",
   "metadata": {
    "id": "b8cb1784"
   },
   "outputs": [],
   "source": []
  }
 ],
 "metadata": {
  "colab": {
   "provenance": []
  },
  "kernelspec": {
   "display_name": "Python 3 (ipykernel)",
   "language": "python",
   "name": "python3"
  },
  "language_info": {
   "codemirror_mode": {
    "name": "ipython",
    "version": 3
   },
   "file_extension": ".py",
   "mimetype": "text/x-python",
   "name": "python",
   "nbconvert_exporter": "python",
   "pygments_lexer": "ipython3",
   "version": "3.11.5"
  }
 },
 "nbformat": 4,
 "nbformat_minor": 5
}
